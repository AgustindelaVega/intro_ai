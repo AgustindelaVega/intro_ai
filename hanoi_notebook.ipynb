{
 "cells": [
  {
   "cell_type": "code",
   "outputs": [],
   "source": [
    "from hanoi_states import StatesHanoi\n",
    "from hanoi_states import ProblemHanoi\n",
    "from tree_hanoi import NodeHanoi"
   ],
   "metadata": {
    "collapsed": false,
    "ExecuteTime": {
     "end_time": "2024-07-03T22:23:51.485692Z",
     "start_time": "2024-07-03T22:23:51.483864Z"
    }
   },
   "id": "46b624111ec721b",
   "execution_count": 79
  },
  {
   "cell_type": "markdown",
   "source": [
    "\n",
    "----\n",
    "\n",
    "## Búsqueda voraz (greedy) primero el mejor\n"
   ],
   "metadata": {
    "collapsed": false
   },
   "id": "3bc89c3b8cebc03f"
  },
  {
   "cell_type": "markdown",
   "source": [
    "### Definimos una Priority Queue"
   ],
   "metadata": {
    "collapsed": false
   },
   "id": "319b5b30970c8bd7"
  },
  {
   "cell_type": "code",
   "execution_count": 80,
   "outputs": [],
   "source": [
    "import heapq\n",
    "\n",
    "class PriorityQueue:\n",
    "    def __init__(self, priority_function):\n",
    "        self.priority_function = priority_function\n",
    "        self.heap = []\n",
    "        self.counter = 0  # A counter to handle items with the same priority\n",
    "\n",
    "    def push(self, item):\n",
    "        # Create a tuple of (priority, counter, item)\n",
    "        # The counter ensures the items are ordered correctly if they have the same priority\n",
    "        priority = self.priority_function(item)\n",
    "        heapq.heappush(self.heap, (priority, self.counter, item))\n",
    "        self.counter += 1\n",
    "\n",
    "    def pop(self):\n",
    "        # Pop the item with the lowest priority (highest priority in terms of the queue)\n",
    "        if self.heap:\n",
    "            return heapq.heappop(self.heap)[2]\n",
    "        raise IndexError(\"pop from an empty priority queue\")\n",
    "\n",
    "    def is_empty(self):\n",
    "        return len(self.heap) == 0\n",
    "    \n",
    "    def __len__(self):\n",
    "        return len(self.heap)"
   ],
   "metadata": {
    "collapsed": false,
    "ExecuteTime": {
     "end_time": "2024-07-03T22:23:57.839208Z",
     "start_time": "2024-07-03T22:23:57.834022Z"
    }
   },
   "id": "477219bac7383f3f"
  },
  {
   "cell_type": "markdown",
   "source": [
    "### Definimos una función heurística"
   ],
   "metadata": {
    "collapsed": false
   },
   "id": "f2339b13dfee0da8"
  },
  {
   "cell_type": "code",
   "execution_count": 81,
   "outputs": [],
   "source": [
    "def heuristic_func(new_node):\n",
    "    last_rod_len = len(new_node.state.rods[len(new_node.state.rods) - 1])\n",
    "    return last_rod_len * -1"
   ],
   "metadata": {
    "collapsed": false,
    "ExecuteTime": {
     "end_time": "2024-07-03T22:24:00.448789Z",
     "start_time": "2024-07-03T22:24:00.444970Z"
    }
   },
   "id": "c8f4147957b425e0"
  },
  {
   "cell_type": "code",
   "execution_count": 82,
   "outputs": [],
   "source": [
    "def greedy_search(initial_node):\n",
    "    frontier = PriorityQueue(heuristic_func)\n",
    "    frontier.push(initial_node)\n",
    "    \n",
    "    explored = set()  # Este set nos permite ver si ya exploramos un estado para evitar repetir indefinidamente\n",
    "    # Mientras que la cola no este vacia\n",
    "    while len(frontier) != 0:\n",
    "        node = frontier.pop()  # Extraemos el primer nodo de la cola (Más prioritario)\n",
    "        \n",
    "        # Agregamos nodo al set. Esto evita guardar duplicados, porque set nunca tiene elementos repetidos\n",
    "        explored.add(node.state)\n",
    "        \n",
    "        if problem.goal_test(node.state):  # Comprobamos si hemos alcanzado el estado objetivo\n",
    "            return node, explored, frontier\n",
    "        \n",
    "        # Agregamos a la cola todos los nodos sucesores del nodo actual\n",
    "        for next_node in node.expand(problem):\n",
    "            # Solo si no fue explorado\n",
    "            if next_node.state not in explored:\n",
    "                heuristic_func(next_node)\n",
    "                frontier.push(next_node) # La Priority Queue se encarga de ordenar la cola a medida que se inserta utilizando la funcion heuristica dada"
   ],
   "metadata": {
    "collapsed": false,
    "ExecuteTime": {
     "end_time": "2024-07-03T22:24:12.546362Z",
     "start_time": "2024-07-03T22:24:12.535150Z"
    }
   },
   "id": "cc2b4d0868a9085d"
  },
  {
   "cell_type": "code",
   "outputs": [],
   "source": [
    "initial_state = StatesHanoi([5, 4, 3, 2, 1], [], [], max_disks=5)\n",
    "goal_state = StatesHanoi([], [], [5, 4, 3, 2, 1], max_disks=5)\n",
    "problem = ProblemHanoi(initial=initial_state, goal=goal_state)\n",
    "\n",
    "last_node, explored, frontier = greedy_search(NodeHanoi(problem.initial))"
   ],
   "metadata": {
    "collapsed": false,
    "ExecuteTime": {
     "end_time": "2024-07-03T22:24:18.382852Z",
     "start_time": "2024-07-03T22:24:18.380473Z"
    }
   },
   "id": "437689133f9019c1",
   "execution_count": 83
  },
  {
   "cell_type": "code",
   "outputs": [
    {
     "name": "stdout",
     "output_type": "stream",
     "text": [
      "Longitud del camino de la solución: 35.0\n"
     ]
    }
   ],
   "source": [
    "print(f'Longitud del camino de la solución: {last_node.state.accumulated_cost}')"
   ],
   "metadata": {
    "collapsed": false,
    "ExecuteTime": {
     "end_time": "2024-07-03T22:24:19.180360Z",
     "start_time": "2024-07-03T22:24:19.173229Z"
    }
   },
   "id": "d317320198ec487e",
   "execution_count": 84
  },
  {
   "cell_type": "code",
   "outputs": [
    {
     "name": "stdout",
     "output_type": "stream",
     "text": [
      "168 nodos se expandieron y 39 nodos quedaron en la frontera\n"
     ]
    }
   ],
   "source": [
    "print(len(explored), \"nodos se expandieron y\", len(frontier), \"nodos quedaron en la frontera\")"
   ],
   "metadata": {
    "collapsed": false,
    "ExecuteTime": {
     "end_time": "2024-07-03T22:24:19.938929Z",
     "start_time": "2024-07-03T22:24:19.931570Z"
    }
   },
   "id": "111e1040cca051eb",
   "execution_count": 85
  },
  {
   "cell_type": "code",
   "outputs": [
    {
     "name": "stdout",
     "output_type": "stream",
     "text": [
      "HanoiState:  |  | 5 4 3 2 1\n",
      "HanoiState: 1 |  | 5 4 3 2\n",
      "HanoiState: 1 | 2 | 5 4 3\n",
      "HanoiState:  | 2 1 | 5 4 3\n",
      "HanoiState: 3 | 2 1 | 5 4\n",
      "HanoiState: 3 | 2 | 5 4 1\n",
      "HanoiState: 3 2 |  | 5 4 1\n",
      "HanoiState: 3 2 1 |  | 5 4\n",
      "HanoiState: 3 2 1 | 4 | 5\n",
      "HanoiState: 3 2 | 4 | 5 1\n",
      "HanoiState: 3 | 4 2 | 5 1\n",
      "HanoiState: 3 1 | 4 2 | 5\n",
      "HanoiState: 3 1 | 4 | 5 2\n",
      "HanoiState: 3 | 4 | 5 2 1\n",
      "HanoiState:  | 4 3 | 5 2 1\n",
      "HanoiState: 1 | 4 3 | 5 2\n",
      "HanoiState: 1 | 4 3 2 | 5\n",
      "HanoiState:  | 4 3 2 1 | 5\n",
      "HanoiState: 5 | 4 3 2 1 | \n",
      "HanoiState: 5 | 4 3 2 | 1\n",
      "HanoiState: 5 2 | 4 3 | 1\n",
      "HanoiState: 5 2 1 | 4 3 | \n",
      "HanoiState: 5 2 1 | 4 | 3\n",
      "HanoiState: 5 2 | 4 | 3 1\n",
      "HanoiState: 5 | 4 2 | 3 1\n",
      "HanoiState: 5 1 | 4 2 | 3\n",
      "HanoiState: 5 1 | 4 | 3 2\n",
      "HanoiState: 5 | 4 | 3 2 1\n",
      "HanoiState: 5 4 |  | 3 2 1\n",
      "HanoiState: 5 4 1 |  | 3 2\n",
      "HanoiState: 5 4 1 | 2 | 3\n",
      "HanoiState: 5 4 | 2 1 | 3\n",
      "HanoiState: 5 4 3 | 2 1 | \n",
      "HanoiState: 5 4 3 | 2 | 1\n",
      "HanoiState: 5 4 3 2 |  | 1\n"
     ]
    }
   ],
   "source": [
    "node = last_node\n",
    "while node.parent is not None:\n",
    "    print(node.state)\n",
    "    node = node.parent"
   ],
   "metadata": {
    "collapsed": false,
    "ExecuteTime": {
     "end_time": "2024-07-03T22:24:21.241114Z",
     "start_time": "2024-07-03T22:24:21.235987Z"
    }
   },
   "id": "887a95e2ba7fe592",
   "execution_count": 86
  },
  {
   "cell_type": "code",
   "outputs": [
    {
     "name": "stdout",
     "output_type": "stream",
     "text": [
      "12.3 ms ± 225 µs per loop (mean ± std. dev. of 7 runs, 100 loops each)\n"
     ]
    }
   ],
   "source": [
    "%%timeit \n",
    "# Inicializaos el problema\n",
    "\n",
    "initial_state = StatesHanoi([5, 4, 3, 2, 1], [], [], max_disks=5)\n",
    "goal_state = StatesHanoi([], [], [5, 4, 3, 2, 1], max_disks=5)\n",
    "problem = ProblemHanoi(initial=initial_state, goal=goal_state)\n",
    "\n",
    "greedy_search(NodeHanoi(problem.initial))"
   ],
   "metadata": {
    "collapsed": false,
    "ExecuteTime": {
     "end_time": "2024-07-03T22:24:32.061630Z",
     "start_time": "2024-07-03T22:24:22.099228Z"
    }
   },
   "id": "eb78b9d58de296ca",
   "execution_count": 87
  },
  {
   "cell_type": "markdown",
   "source": [
    "Vemos que la solución demoro en promedio 12.5ms. "
   ],
   "metadata": {
    "collapsed": false
   },
   "id": "7825bb110ac3999c"
  },
  {
   "cell_type": "code",
   "outputs": [
    {
     "name": "stdout",
     "output_type": "stream",
     "text": [
      "Maxima memoria ocupada: 0.25 [MB]\n"
     ]
    }
   ],
   "source": [
    "import tracemalloc\n",
    "\n",
    "# Para medir memoria consumida (usamos el pico de memoria)\n",
    "tracemalloc.start()\n",
    "\n",
    "# Inicializaos el problema\n",
    "initial_state = StatesHanoi([5, 4, 3, 2, 1], [], [], max_disks=5)\n",
    "goal_state = StatesHanoi([], [], [5, 4, 3, 2, 1], max_disks=5)\n",
    "problem = ProblemHanoi(initial=initial_state, goal=goal_state)\n",
    "\n",
    "greedy_search(NodeHanoi(problem.initial))\n",
    "            \n",
    "_, memory_peak = tracemalloc.get_traced_memory()\n",
    "memory_peak /= 1024*1024\n",
    "tracemalloc.stop()\n",
    "\n",
    "print(f\"Maxima memoria ocupada: {round(memory_peak, 2)} [MB]\", )"
   ],
   "metadata": {
    "collapsed": false,
    "ExecuteTime": {
     "end_time": "2024-07-03T22:24:36.055291Z",
     "start_time": "2024-07-03T22:24:35.987730Z"
    }
   },
   "id": "ef46aea3401b7c52",
   "execution_count": 88
  },
  {
   "cell_type": "markdown",
   "source": [
    "Maxima memoria ocupada: 0.25 [MB]"
   ],
   "metadata": {
    "collapsed": false
   },
   "id": "9baf0ae89b1aac46"
  }
 ],
 "metadata": {
  "kernelspec": {
   "display_name": "Python 3",
   "language": "python",
   "name": "python3"
  },
  "language_info": {
   "codemirror_mode": {
    "name": "ipython",
    "version": 2
   },
   "file_extension": ".py",
   "mimetype": "text/x-python",
   "name": "python",
   "nbconvert_exporter": "python",
   "pygments_lexer": "ipython2",
   "version": "2.7.6"
  }
 },
 "nbformat": 4,
 "nbformat_minor": 5
}
